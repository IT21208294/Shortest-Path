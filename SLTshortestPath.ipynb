{
  "nbformat": 4,
  "nbformat_minor": 0,
  "metadata": {
    "colab": {
      "provenance": [],
      "authorship_tag": "ABX9TyMEetKhi6s1Cl8bEHwAL4AH",
      "include_colab_link": true
    },
    "kernelspec": {
      "name": "python3",
      "display_name": "Python 3"
    },
    "language_info": {
      "name": "python"
    }
  },
  "cells": [
    {
      "cell_type": "markdown",
      "metadata": {
        "id": "view-in-github",
        "colab_type": "text"
      },
      "source": [
        "<a href=\"https://colab.research.google.com/github/IT21208294/Shortest-Path/blob/Tharushi/SLTshortestPath.ipynb\" target=\"_parent\"><img src=\"https://colab.research.google.com/assets/colab-badge.svg\" alt=\"Open In Colab\"/></a>"
      ]
    },
    {
      "cell_type": "code",
      "execution_count": 1,
      "metadata": {
        "colab": {
          "base_uri": "https://localhost:8080/"
        },
        "id": "h6oJRM3laMIg",
        "outputId": "0f6a61d0-afff-4e66-bf89-7400e38467a0"
      },
      "outputs": [
        {
          "output_type": "stream",
          "name": "stdout",
          "text": [
            "Collecting simanneal\n",
            "  Downloading simanneal-0.5.0-py2.py3-none-any.whl (5.6 kB)\n",
            "Installing collected packages: simanneal\n",
            "Successfully installed simanneal-0.5.0\n"
          ]
        }
      ],
      "source": [
        "!pip install simanneal"
      ]
    },
    {
      "cell_type": "code",
      "source": [
        "import pandas as pd\n",
        "import numpy as np\n",
        "from simanneal import Annealer\n",
        "from math import radians, sin, cos, sqrt, atan2\n",
        "import urllib.parse"
      ],
      "metadata": {
        "id": "AGpkcgUNaSng"
      },
      "execution_count": 2,
      "outputs": []
    },
    {
      "cell_type": "code",
      "source": [
        "# Load CSV data\n",
        "data = pd.read_csv('/content/locations.csv.txt')"
      ],
      "metadata": {
        "id": "awTZ0u2qafl3"
      },
      "execution_count": 3,
      "outputs": []
    },
    {
      "cell_type": "code",
      "source": [
        "# Extract location names, latitudes, and longitudes\n",
        "location_names = data['Name'].tolist()\n",
        "latitudes = data['Latitude'].tolist()\n",
        "longitudes = data['Longitude'].tolist()"
      ],
      "metadata": {
        "id": "SAWgW95vatLW"
      },
      "execution_count": 4,
      "outputs": []
    },
    {
      "cell_type": "code",
      "source": [
        "# Number of locations\n",
        "n_locations = len(location_names)"
      ],
      "metadata": {
        "id": "410ingPHayTr"
      },
      "execution_count": 5,
      "outputs": []
    },
    {
      "cell_type": "code",
      "source": [
        "# Define a function to calculate the Haversine distance between two points\n",
        "def haversine_distance(lat1, lon1, lat2, lon2):\n",
        "    R = 6371  # Radius of Earth in kilometers\n",
        "    dlat = radians(lat2 - lat1)\n",
        "    dlon = radians(lon2 - lon1)\n",
        "    a = sin(dlat / 2) ** 2 + cos(radians(lat1)) * cos(radians(lat2)) * sin(dlon / 2) ** 2\n",
        "    c = 2 * atan2(sqrt(a), sqrt(1 - a))\n",
        "    distance = R * c\n",
        "    return distance"
      ],
      "metadata": {
        "id": "8r0nP2IibeBY"
      },
      "execution_count": 6,
      "outputs": []
    },
    {
      "cell_type": "code",
      "source": [
        "# Calculate distance matrix\n",
        "distance_matrix = np.zeros((n_locations, n_locations))\n",
        "for i in range(n_locations):\n",
        "    for j in range(n_locations):\n",
        "        if i != j:\n",
        "            distance_matrix[i, j] = haversine_distance(latitudes[i], longitudes[i], latitudes[j], longitudes[j])"
      ],
      "metadata": {
        "id": "qdIrNzsBbiBY"
      },
      "execution_count": 7,
      "outputs": []
    },
    {
      "cell_type": "code",
      "source": [
        "# Function to set the start node\n",
        "def set_start_node(route, start_node):\n",
        "    \"\"\"Set the start node of the route and move it to the beginning.\"\"\"\n",
        "    if start_node != 0:\n",
        "        route.remove(start_node)\n",
        "        route.insert(0, start_node)\n",
        "    return route"
      ],
      "metadata": {
        "id": "6Y1-bFTycMUP"
      },
      "execution_count": 8,
      "outputs": []
    },
    {
      "cell_type": "code",
      "source": [
        "# Define a function to calculate the total distance for a given route\n",
        "def calculate_distance(route):\n",
        "    distance = 0\n",
        "    for i in range(len(route) - 1):\n",
        "        distance += distance_matrix[route[i], route[i + 1]]\n",
        "    distance += distance_matrix[route[-1], route[0]]\n",
        "    return distance"
      ],
      "metadata": {
        "id": "cZutXIqTc0rD"
      },
      "execution_count": 9,
      "outputs": []
    },
    {
      "cell_type": "code",
      "source": [
        "# Define a custom simulated annealing class for TSP\n",
        "class TSPAnnealer(Annealer):\n",
        "    def __init__(self, initial_route):\n",
        "        self.route = initial_route\n",
        "        super().__init__(initial_route)\n",
        "\n",
        "    def move(self):\n",
        "        # Swap two cities in the route\n",
        "        i = np.random.randint(1, len(self.route) - 1)\n",
        "        j = np.random.randint(1, len(self.route) - 1)\n",
        "        self.route[i], self.route[j] = self.route[j], self.route[i]\n",
        "\n",
        "    def energy(self):\n",
        "        # Return the total distance of the current route\n",
        "        return calculate_distance(self.route)"
      ],
      "metadata": {
        "id": "W1O04gu3dAtV"
      },
      "execution_count": 10,
      "outputs": []
    },
    {
      "cell_type": "code",
      "source": [
        "# Set the initial route\n",
        "initial_route = list(range(n_locations))"
      ],
      "metadata": {
        "id": "SfT4YF4vdNQH"
      },
      "execution_count": 11,
      "outputs": []
    },
    {
      "cell_type": "code",
      "source": [
        "# Specify the start node\n",
        "start_node = 0"
      ],
      "metadata": {
        "id": "5k7CKYVtdbf7"
      },
      "execution_count": 12,
      "outputs": []
    },
    {
      "cell_type": "code",
      "source": [
        "# Update the initial route to start from the specified start node\n",
        "initial_route = set_start_node(initial_route, start_node)"
      ],
      "metadata": {
        "id": "q8hQGE2tdsBD"
      },
      "execution_count": 13,
      "outputs": []
    },
    {
      "cell_type": "code",
      "source": [
        "# Create an instance of the TSPAnnealer with the initial route\n",
        "annealer = TSPAnnealer(initial_route)"
      ],
      "metadata": {
        "id": "TfoRR8E1d3QQ"
      },
      "execution_count": 14,
      "outputs": []
    },
    {
      "cell_type": "code",
      "source": [
        "# Run the simulated annealing algorithm\n",
        "annealer.auto(minutes=5, steps=1000)"
      ],
      "metadata": {
        "colab": {
          "base_uri": "https://localhost:8080/"
        },
        "id": "G7rQlZOGeqWf",
        "outputId": "11c97820-3ae0-436b-dc31-f30f6f5c1682"
      },
      "execution_count": 15,
      "outputs": [
        {
          "output_type": "stream",
          "name": "stderr",
          "text": [
            " Temperature        Energy    Accept   Improve     Elapsed   Remaining\n"
          ]
        },
        {
          "output_type": "execute_result",
          "data": {
            "text/plain": [
              "{'tmax': 81.0,\n",
              " 'tmin': 1.0000000000000001e-21,\n",
              " 'steps': 4400000,\n",
              " 'updates': 100}"
            ]
          },
          "metadata": {},
          "execution_count": 15
        }
      ]
    },
    {
      "cell_type": "code",
      "source": [
        "# Get the optimized route and distance\n",
        "optimized_route = annealer.route\n",
        "optimized_distance = calculate_distance(optimized_route)"
      ],
      "metadata": {
        "id": "Pn0XwDRxe1Xh"
      },
      "execution_count": 16,
      "outputs": []
    },
    {
      "cell_type": "code",
      "source": [
        "# Define a function to generate a Google Maps URL for the optimized route\n",
        "def generate_google_maps_url(optimized_route, location_names, latitudes, longitudes):\n",
        "    base_url = \"https://www.google.com/maps/dir/?api=1\"\n",
        "    travel_mode = \"driving\"\n",
        "    waypoints = []\n",
        "\n",
        "    # Start point\n",
        "    start_point = f\"{latitudes[optimized_route[0]]},{longitudes[optimized_route[0]]}\"\n",
        "\n",
        "    # Collect waypoints\n",
        "    for idx in optimized_route:\n",
        "        waypoint = f\"{latitudes[idx]},{longitudes[idx]}\"\n",
        "        waypoints.append(waypoint)\n",
        "\n",
        "    # Join the waypoints using the pipe ('|') delimiter\n",
        "    waypoints_str = '|'.join(waypoints)\n",
        "\n",
        "    # Create the URL\n",
        "    url = f\"{base_url}&origin={start_point}&destination={start_point}&waypoints={urllib.parse.quote(waypoints_str)}&travelmode={travel_mode}\"\n",
        "\n",
        "    return url\n"
      ],
      "metadata": {
        "id": "lU_wqJduerbw"
      },
      "execution_count": 17,
      "outputs": []
    },
    {
      "cell_type": "code",
      "source": [
        "# Generate the Google Maps URL\n",
        "google_maps_url = generate_google_maps_url(optimized_route, location_names, latitudes, longitudes)\n",
        "\n",
        "# Print the optimized route and distance\n",
        "print(\"Optimized Route:\")\n",
        "for idx in optimized_route:\n",
        "    print(f\"{idx}: {location_names[idx]}\")  # Print node number and location name\n",
        "print(\"Total Distance:\", optimized_distance)\n",
        "\n",
        "# Print the Google Maps URL\n",
        "print(\"\\nGoogle Maps URL:\")\n",
        "print(google_maps_url)\n"
      ],
      "metadata": {
        "colab": {
          "base_uri": "https://localhost:8080/"
        },
        "id": "oFXJvHvRfAHZ",
        "outputId": "b7a75660-4583-4643-a8a1-ccf773c76f4f"
      },
      "execution_count": 18,
      "outputs": [
        {
          "output_type": "stream",
          "name": "stdout",
          "text": [
            "Optimized Route:\n",
            "0: Colombo Fort\n",
            "28: Seema Malaka\n",
            "44: Crescat Boulevard Mall\n",
            "38: Dehiwala Zoo\n",
            "13: Arcade Independence Square\n",
            "10: BMICH\n",
            "5: Independence Memorial Hall\n",
            "48: St. Lucia's Cathedral\n",
            "46: Gothami Temple\n",
            "47: Colombo Public Library\n",
            "29: National Museum of Natural History\n",
            "36: Grand Mosque\n",
            "20: Slave Island\n",
            "32: Viharamahadevi Open Air Amphitheatre\n",
            "1: Galle Face Green\n",
            "31: One Galle Face Mall\n",
            "26: Colombo City Walks\n",
            "37: Asokaramaya Buddhist Temple\n",
            "8: Mount Lavinia Beach\n",
            "21: Wolvendaal Church\n",
            "23: National Art Gallery\n",
            "15: National Zoological Gardens of Sri Lanka\n",
            "6: Kelaniya Raja Maha Vihara\n",
            "27: The Independence Arcade\n",
            "9: R. Premadasa Stadium\n",
            "19: Dutch Hospital Shopping Precinct\n",
            "41: Royal Colombo Golf Club\n",
            "49: Rukmani Devi Memorial Hall\n",
            "17: Colombo Lotus Tower\n",
            "43: Liberty Plaza Shopping Mall\n",
            "7: Diyatha Uyana\n",
            "2: Gangaramaya Temple\n",
            "14: Old Parliament Building\n",
            "45: Majestic City Mall\n",
            "25: Beira Lake\n",
            "24: Sugathadasa Indoor Stadium\n",
            "22: Colombo City Centre Mall\n",
            "18: Pettah Market\n",
            "3: National Museum of Colombo\n",
            "39: Sri Kaileswaram Temple\n",
            "50: Sambodhi Chaithya\n",
            "4: Viharamahadevi Park\n",
            "33: Galle Face Hotel\n",
            "11: Gangaramaya Park\n",
            "35: Bellagio Colombo\n",
            "30: Good Market\n",
            "42: Colombo Racecourse\n",
            "16: Dutch Museum\n",
            "40: Lanka Hospital\n",
            "12: Jami Ul-Alfar Mosque\n",
            "34: Viharamahadevi Rose Garden\n",
            "51: D.R. Wijewardene Mawatha\n",
            "Total Distance: 210.33799412881456\n",
            "\n",
            "Google Maps URL:\n",
            "https://www.google.com/maps/dir/?api=1&origin=6.9335,79.8428&destination=6.9335,79.8428&waypoints=6.9335%2C79.8428%7C6.9212%2C79.8568%7C6.9214%2C79.8494%7C6.8222%2C79.8722%7C6.9063%2C79.8617%7C6.9143%2C79.8632%7C6.9057%2C79.8618%7C6.9514%2C79.8694%7C6.8953%2C79.8771%7C6.9155%2C79.8556%7C6.9165%2C79.8576%7C6.9368%2C79.8541%7C6.9272%2C79.8521%7C6.9126%2C79.8599%7C6.9218%2C79.8489%7C6.9182%2C79.8476%7C6.9357%2C79.8474%7C6.8922%2C79.8744%7C6.8263%2C79.866%7C6.9522%2C79.8534%7C6.9186%2C79.8602%7C6.8272%2C79.8764%7C6.9747%2C79.9266%7C6.9063%2C79.8617%7C6.9364%2C79.8689%7C6.9342%2C79.8435%7C6.8991%2C79.8831%7C6.9339%2C79.8532%7C6.9311%2C79.8581%7C6.9214%2C79.8544%7C6.8885%2C79.8995%7C6.9213%2C79.8545%7C6.9337%2C79.8432%7C6.8883%2C79.8584%7C6.9226%2C79.8595%7C6.9528%2C79.8735%7C6.9261%2C79.8534%7C6.9363%2C79.8503%7C6.9172%2C79.8574%7C6.9381%2C79.8466%7C6.9311%2C79.8491%7C6.9129%2C79.8606%7C6.9202%2C79.8473%7C6.9244%2C79.8606%7C6.9202%2C79.8601%7C6.9222%2C79.8646%7C6.9026%2C79.8746%7C6.9389%2C79.8513%7C6.8881%2C79.8696%7C6.9381%2C79.8547%7C6.9131%2C79.8603%7C6.9453%2C79.8666&travelmode=driving\n"
          ]
        }
      ]
    }
  ]
}