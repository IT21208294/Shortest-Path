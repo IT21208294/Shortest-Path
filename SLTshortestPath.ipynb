{
  "nbformat": 4,
  "nbformat_minor": 0,
  "metadata": {
    "colab": {
      "provenance": [],
      "authorship_tag": "ABX9TyPxHPFQvzLZkltfaYqUqU97",
      "include_colab_link": true
    },
    "kernelspec": {
      "name": "python3",
      "display_name": "Python 3"
    },
    "language_info": {
      "name": "python"
    }
  },
  "cells": [
    {
      "cell_type": "markdown",
      "metadata": {
        "id": "view-in-github",
        "colab_type": "text"
      },
      "source": [
        "<a href=\"https://colab.research.google.com/github/IT21208294/Shortest-Path/blob/Tharushi/SLTshortestPath.ipynb\" target=\"_parent\"><img src=\"https://colab.research.google.com/assets/colab-badge.svg\" alt=\"Open In Colab\"/></a>"
      ]
    },
    {
      "cell_type": "code",
      "execution_count": 1,
      "metadata": {
        "colab": {
          "base_uri": "https://localhost:8080/"
        },
        "id": "h6oJRM3laMIg",
        "outputId": "0f6a61d0-afff-4e66-bf89-7400e38467a0"
      },
      "outputs": [
        {
          "output_type": "stream",
          "name": "stdout",
          "text": [
            "Collecting simanneal\n",
            "  Downloading simanneal-0.5.0-py2.py3-none-any.whl (5.6 kB)\n",
            "Installing collected packages: simanneal\n",
            "Successfully installed simanneal-0.5.0\n"
          ]
        }
      ],
      "source": [
        "!pip install simanneal"
      ]
    },
    {
      "cell_type": "code",
      "source": [
        "import pandas as pd\n",
        "import numpy as np\n",
        "from simanneal import Annealer\n",
        "from math import radians, sin, cos, sqrt, atan2\n",
        "import urllib.parse"
      ],
      "metadata": {
        "id": "AGpkcgUNaSng"
      },
      "execution_count": 2,
      "outputs": []
    },
    {
      "cell_type": "code",
      "source": [
        "# Load CSV data\n",
        "data = pd.read_csv('/content/locations.csv.txt')"
      ],
      "metadata": {
        "id": "awTZ0u2qafl3"
      },
      "execution_count": 3,
      "outputs": []
    },
    {
      "cell_type": "code",
      "source": [
        "# Extract location names, latitudes, and longitudes\n",
        "location_names = data['Name'].tolist()\n",
        "latitudes = data['Latitude'].tolist()\n",
        "longitudes = data['Longitude'].tolist()"
      ],
      "metadata": {
        "id": "SAWgW95vatLW"
      },
      "execution_count": 4,
      "outputs": []
    },
    {
      "cell_type": "code",
      "source": [
        "# Number of locations\n",
        "n_locations = len(location_names)"
      ],
      "metadata": {
        "id": "410ingPHayTr"
      },
      "execution_count": 5,
      "outputs": []
    },
    {
      "cell_type": "code",
      "source": [
        "# Define a function to calculate the Haversine distance between two points\n",
        "def haversine_distance(lat1, lon1, lat2, lon2):\n",
        "    R = 6371  # Radius of Earth in kilometers\n",
        "    dlat = radians(lat2 - lat1)\n",
        "    dlon = radians(lon2 - lon1)\n",
        "    a = sin(dlat / 2) ** 2 + cos(radians(lat1)) * cos(radians(lat2)) * sin(dlon / 2) ** 2\n",
        "    c = 2 * atan2(sqrt(a), sqrt(1 - a))\n",
        "    distance = R * c\n",
        "    return distance"
      ],
      "metadata": {
        "id": "8r0nP2IibeBY"
      },
      "execution_count": 6,
      "outputs": []
    },
    {
      "cell_type": "code",
      "source": [
        "# Calculate distance matrix\n",
        "distance_matrix = np.zeros((n_locations, n_locations))\n",
        "for i in range(n_locations):\n",
        "    for j in range(n_locations):\n",
        "        if i != j:\n",
        "            distance_matrix[i, j] = haversine_distance(latitudes[i], longitudes[i], latitudes[j], longitudes[j])"
      ],
      "metadata": {
        "id": "qdIrNzsBbiBY"
      },
      "execution_count": 7,
      "outputs": []
    },
    {
      "cell_type": "code",
      "source": [
        "# Function to set the start node\n",
        "def set_start_node(route, start_node):\n",
        "    \"\"\"Set the start node of the route and move it to the beginning.\"\"\"\n",
        "    if start_node != 0:\n",
        "        route.remove(start_node)\n",
        "        route.insert(0, start_node)\n",
        "    return route"
      ],
      "metadata": {
        "id": "6Y1-bFTycMUP"
      },
      "execution_count": 8,
      "outputs": []
    },
    {
      "cell_type": "code",
      "source": [
        "# Define a function to calculate the total distance for a given route\n",
        "def calculate_distance(route):\n",
        "    distance = 0\n",
        "    for i in range(len(route) - 1):\n",
        "        distance += distance_matrix[route[i], route[i + 1]]\n",
        "    distance += distance_matrix[route[-1], route[0]]\n",
        "    return distance"
      ],
      "metadata": {
        "id": "cZutXIqTc0rD"
      },
      "execution_count": 9,
      "outputs": []
    },
    {
      "cell_type": "code",
      "source": [
        "# Define a custom simulated annealing class for TSP\n",
        "class TSPAnnealer(Annealer):\n",
        "    def __init__(self, initial_route):\n",
        "        self.route = initial_route\n",
        "        super().__init__(initial_route)\n",
        "\n",
        "    def move(self):\n",
        "        # Swap two cities in the route\n",
        "        i = np.random.randint(1, len(self.route) - 1)\n",
        "        j = np.random.randint(1, len(self.route) - 1)\n",
        "        self.route[i], self.route[j] = self.route[j], self.route[i]\n",
        "\n",
        "    def energy(self):\n",
        "        # Return the total distance of the current route\n",
        "        return calculate_distance(self.route)"
      ],
      "metadata": {
        "id": "W1O04gu3dAtV"
      },
      "execution_count": 10,
      "outputs": []
    },
    {
      "cell_type": "code",
      "source": [
        "# Set the initial route\n",
        "initial_route = list(range(n_locations))"
      ],
      "metadata": {
        "id": "SfT4YF4vdNQH"
      },
      "execution_count": 11,
      "outputs": []
    },
    {
      "cell_type": "code",
      "source": [
        "# Specify the start node\n",
        "start_node = 0"
      ],
      "metadata": {
        "id": "5k7CKYVtdbf7"
      },
      "execution_count": 12,
      "outputs": []
    },
    {
      "cell_type": "code",
      "source": [
        "# Update the initial route to start from the specified start node\n",
        "initial_route = set_start_node(initial_route, start_node)"
      ],
      "metadata": {
        "id": "q8hQGE2tdsBD"
      },
      "execution_count": 13,
      "outputs": []
    },
    {
      "cell_type": "code",
      "source": [
        "# Create an instance of the TSPAnnealer with the initial route\n",
        "annealer = TSPAnnealer(initial_route)"
      ],
      "metadata": {
        "id": "TfoRR8E1d3QQ"
      },
      "execution_count": 14,
      "outputs": []
    },
    {
      "cell_type": "code",
      "source": [
        "# Run the simulated annealing algorithm\n",
        "annealer.auto(minutes=5, steps=1000)"
      ],
      "metadata": {
        "colab": {
          "base_uri": "https://localhost:8080/"
        },
        "id": "G7rQlZOGeqWf",
        "outputId": "11c97820-3ae0-436b-dc31-f30f6f5c1682"
      },
      "execution_count": 15,
      "outputs": [
        {
          "output_type": "stream",
          "name": "stderr",
          "text": [
            " Temperature        Energy    Accept   Improve     Elapsed   Remaining\n"
          ]
        },
        {
          "output_type": "execute_result",
          "data": {
            "text/plain": [
              "{'tmax': 81.0,\n",
              " 'tmin': 1.0000000000000001e-21,\n",
              " 'steps': 4400000,\n",
              " 'updates': 100}"
            ]
          },
          "metadata": {},
          "execution_count": 15
        }
      ]
    },
    {
      "cell_type": "code",
      "source": [],
      "metadata": {
        "id": "lU_wqJduerbw"
      },
      "execution_count": null,
      "outputs": []
    }
  ]
}