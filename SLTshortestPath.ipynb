{
  "nbformat": 4,
  "nbformat_minor": 0,
  "metadata": {
    "colab": {
      "provenance": [],
      "authorship_tag": "ABX9TyNc4K+ytxLLJuOezyj9fWFt",
      "include_colab_link": true
    },
    "kernelspec": {
      "name": "python3",
      "display_name": "Python 3"
    },
    "language_info": {
      "name": "python"
    }
  },
  "cells": [
    {
      "cell_type": "markdown",
      "metadata": {
        "id": "view-in-github",
        "colab_type": "text"
      },
      "source": [
        "<a href=\"https://colab.research.google.com/github/IT21208294/Shortest-Path/blob/Tharushi/SLTshortestPath.ipynb\" target=\"_parent\"><img src=\"https://colab.research.google.com/assets/colab-badge.svg\" alt=\"Open In Colab\"/></a>"
      ]
    },
    {
      "cell_type": "code",
      "execution_count": 1,
      "metadata": {
        "colab": {
          "base_uri": "https://localhost:8080/"
        },
        "id": "h6oJRM3laMIg",
        "outputId": "0f6a61d0-afff-4e66-bf89-7400e38467a0"
      },
      "outputs": [
        {
          "output_type": "stream",
          "name": "stdout",
          "text": [
            "Collecting simanneal\n",
            "  Downloading simanneal-0.5.0-py2.py3-none-any.whl (5.6 kB)\n",
            "Installing collected packages: simanneal\n",
            "Successfully installed simanneal-0.5.0\n"
          ]
        }
      ],
      "source": [
        "!pip install simanneal"
      ]
    },
    {
      "cell_type": "code",
      "source": [
        "import pandas as pd\n",
        "import numpy as np\n",
        "from simanneal import Annealer\n",
        "from math import radians, sin, cos, sqrt, atan2\n",
        "import urllib.parse"
      ],
      "metadata": {
        "id": "AGpkcgUNaSng"
      },
      "execution_count": 2,
      "outputs": []
    },
    {
      "cell_type": "code",
      "source": [
        "# Load CSV data\n",
        "data = pd.read_csv('/content/locations.csv.txt')"
      ],
      "metadata": {
        "id": "awTZ0u2qafl3"
      },
      "execution_count": 3,
      "outputs": []
    },
    {
      "cell_type": "code",
      "source": [
        "# Extract location names, latitudes, and longitudes\n",
        "location_names = data['Name'].tolist()\n",
        "latitudes = data['Latitude'].tolist()\n",
        "longitudes = data['Longitude'].tolist()"
      ],
      "metadata": {
        "id": "SAWgW95vatLW"
      },
      "execution_count": 4,
      "outputs": []
    },
    {
      "cell_type": "code",
      "source": [
        "# Number of locations\n",
        "n_locations = len(location_names)"
      ],
      "metadata": {
        "id": "410ingPHayTr"
      },
      "execution_count": 5,
      "outputs": []
    },
    {
      "cell_type": "code",
      "source": [
        "# Define a function to calculate the Haversine distance between two points\n",
        "def haversine_distance(lat1, lon1, lat2, lon2):\n",
        "    R = 6371  # Radius of Earth in kilometers\n",
        "    dlat = radians(lat2 - lat1)\n",
        "    dlon = radians(lon2 - lon1)\n",
        "    a = sin(dlat / 2) ** 2 + cos(radians(lat1)) * cos(radians(lat2)) * sin(dlon / 2) ** 2\n",
        "    c = 2 * atan2(sqrt(a), sqrt(1 - a))\n",
        "    distance = R * c\n",
        "    return distance"
      ],
      "metadata": {
        "id": "8r0nP2IibeBY"
      },
      "execution_count": 6,
      "outputs": []
    },
    {
      "cell_type": "code",
      "source": [
        "# Calculate distance matrix\n",
        "distance_matrix = np.zeros((n_locations, n_locations))\n",
        "for i in range(n_locations):\n",
        "    for j in range(n_locations):\n",
        "        if i != j:\n",
        "            distance_matrix[i, j] = haversine_distance(latitudes[i], longitudes[i], latitudes[j], longitudes[j])"
      ],
      "metadata": {
        "id": "qdIrNzsBbiBY"
      },
      "execution_count": 7,
      "outputs": []
    },
    {
      "cell_type": "code",
      "source": [
        "# Function to set the start node\n",
        "def set_start_node(route, start_node):\n",
        "    \"\"\"Set the start node of the route and move it to the beginning.\"\"\"\n",
        "    if start_node != 0:\n",
        "        route.remove(start_node)\n",
        "        route.insert(0, start_node)\n",
        "    return route"
      ],
      "metadata": {
        "id": "6Y1-bFTycMUP"
      },
      "execution_count": 8,
      "outputs": []
    },
    {
      "cell_type": "code",
      "source": [
        "# Define a function to calculate the total distance for a given route\n",
        "def calculate_distance(route):\n",
        "    distance = 0\n",
        "    for i in range(len(route) - 1):\n",
        "        distance += distance_matrix[route[i], route[i + 1]]\n",
        "    distance += distance_matrix[route[-1], route[0]]\n",
        "    return distance"
      ],
      "metadata": {
        "id": "cZutXIqTc0rD"
      },
      "execution_count": 9,
      "outputs": []
    },
    {
      "cell_type": "code",
      "source": [
        "# Define a custom simulated annealing class for TSP\n",
        "class TSPAnnealer(Annealer):\n",
        "    def __init__(self, initial_route):\n",
        "        self.route = initial_route\n",
        "        super().__init__(initial_route)\n",
        "\n",
        "    def move(self):\n",
        "        # Swap two cities in the route\n",
        "        i = np.random.randint(1, len(self.route) - 1)\n",
        "        j = np.random.randint(1, len(self.route) - 1)\n",
        "        self.route[i], self.route[j] = self.route[j], self.route[i]\n",
        "\n",
        "    def energy(self):\n",
        "        # Return the total distance of the current route\n",
        "        return calculate_distance(self.route)"
      ],
      "metadata": {
        "id": "W1O04gu3dAtV"
      },
      "execution_count": 10,
      "outputs": []
    }
  ]
}