{
  "nbformat": 4,
  "nbformat_minor": 0,
  "metadata": {
    "colab": {
      "provenance": []
    },
    "kernelspec": {
      "name": "python3",
      "display_name": "Python 3"
    },
    "language_info": {
      "name": "python"
    }
  },
  "cells": [
    {
      "cell_type": "code",
      "execution_count": 1,
      "metadata": {
        "colab": {
          "base_uri": "https://localhost:8080/"
        },
        "id": "h6oJRM3laMIg",
        "outputId": "0f6a61d0-afff-4e66-bf89-7400e38467a0"
      },
      "outputs": [
        {
          "output_type": "stream",
          "name": "stdout",
          "text": [
            "Collecting simanneal\n",
            "  Downloading simanneal-0.5.0-py2.py3-none-any.whl (5.6 kB)\n",
            "Installing collected packages: simanneal\n",
            "Successfully installed simanneal-0.5.0\n"
          ]
        }
      ],
      "source": [
        "!pip install simanneal"
      ]
    },
    {
      "cell_type": "code",
      "source": [
        "import pandas as pd\n",
        "import numpy as np\n",
        "from simanneal import Annealer\n",
        "from math import radians, sin, cos, sqrt, atan2\n",
        "import urllib.parse"
      ],
      "metadata": {
        "id": "AGpkcgUNaSng"
      },
      "execution_count": 2,
      "outputs": []
    },
    {
      "cell_type": "code",
      "source": [
        "# Load CSV data\n",
        "data = pd.read_csv('/content/locations.csv.txt')"
      ],
      "metadata": {
        "id": "awTZ0u2qafl3"
      },
      "execution_count": 3,
      "outputs": []
    },
    {
      "cell_type": "code",
      "source": [
        "# Extract location names, latitudes, and longitudes\n",
        "location_names = data['Name'].tolist()\n",
        "latitudes = data['Latitude'].tolist()\n",
        "longitudes = data['Longitude'].tolist()"
      ],
      "metadata": {
        "id": "SAWgW95vatLW"
      },
      "execution_count": 4,
      "outputs": []
    },
    {
      "cell_type": "code",
      "source": [
        "# Number of locations\n",
        "n_locations = len(location_names)"
      ],
      "metadata": {
        "id": "410ingPHayTr"
      },
      "execution_count": 5,
      "outputs": []
    }
  ]
}